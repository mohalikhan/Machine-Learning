{
 "cells": [
  {
   "cell_type": "code",
   "execution_count": 76,
   "metadata": {},
   "outputs": [],
   "source": [
    "# Import the necessary libraries\n",
    "import numpy as np\n",
    "import pandas as pd\n",
    "import os\n",
    "import time\n",
    "\n",
    "import tensorflow as tf\n",
    "from datetime import datetime\n",
    "\n",
    "import warnings\n",
    "warnings.filterwarnings('ignore')\n",
    "\n",
    "# to make this notebook's output stable across runs\n",
    "np.random.seed(123)\n",
    "\n",
    "# To plot pretty figures\n",
    "import seaborn as sns\n",
    "%matplotlib inline\n",
    "import matplotlib\n",
    "import matplotlib.pyplot as plt\n",
    "plt.rcParams['axes.labelsize'] = 14\n",
    "plt.rcParams['xtick.labelsize'] = 12\n",
    "plt.rcParams['ytick.labelsize'] = 12"
   ]
  },
  {
   "cell_type": "markdown",
   "metadata": {},
   "source": [
    "### Import Data"
   ]
  },
  {
   "cell_type": "code",
   "execution_count": 2,
   "metadata": {},
   "outputs": [],
   "source": [
    "total_features = ['Page Likes', 'Page Checkins', 'Page Talking About', 'Page Category', \n",
    "            'Min CC1', 'Max CC1', 'Average CC1', 'Median CC1', 'Standard Deviation CC1', \n",
    "            'Min CC2', 'Max CC2', 'Average CC2', 'Median CC2', 'Standard Deviation CC2', \n",
    "            'Min CC3', 'Max CC3', 'Average CC3', 'Median CC3', 'Standard Deviation CC3', \n",
    "            'Min CC4', 'Max CC4', 'Average CC4', 'Median CC4', 'Standard Deviation CC4', \n",
    "            'Min CC5', 'Max CC5', 'Average CC5', 'Median CC5', 'Standard Deviation CC5', \n",
    "            'CC1', 'CC2', 'CC3', 'CC4', 'CC5', \n",
    "            'Base Time', 'Post Length', 'Post Share Count', 'Post Promotion Status', 'H Local', \n",
    "            'Sunday_Wk1', 'Monday_WK1', 'Tuesday_WK1', 'Wednesday_WK1', 'Thursday_WK1', 'Friday_WK1', 'Saturday_WK1', \n",
    "            'Sunday_WK2', 'Monday_WK2', 'Tuesday_WK2', 'Wednesday_WK2', 'Thursday_WK2', 'Friday_WK2', 'Saturday_WK2',\n",
    "            'Number of Comments in the Next H Hours']\n",
    "\n",
    "# Import 5 data sets (training and test)\n",
    "train_data_1 = pd.read_csv(\"Dataset/Training/Features_Variant_1.csv\", names = total_features)\n",
    "test_data_1 = pd.read_csv(\"Dataset/Testing/TestSet/Test_Case_1.csv\", names = total_features)\n",
    "\n",
    "train_data_2 = pd.read_csv(\"Dataset/Training/Features_Variant_2.csv\", names = total_features)\n",
    "test_data_2 = pd.read_csv(\"Dataset/Testing/TestSet/Test_Case_2.csv\", names = total_features)\n",
    "\n",
    "train_data_3 = pd.read_csv(\"Dataset/Training/Features_Variant_3.csv\", names = total_features)\n",
    "test_data_3 = pd.read_csv(\"Dataset/Testing/TestSet/Test_Case_3.csv\", names = total_features)\n",
    "\n",
    "train_data_4 = pd.read_csv(\"Dataset/Training/Features_Variant_4.csv\", names = total_features)\n",
    "test_data_4 = pd.read_csv(\"Dataset/Testing/TestSet/Test_Case_4.csv\", names = total_features)\n",
    "\n",
    "train_data_5 = pd.read_csv(\"Dataset/Training/Features_Variant_5.csv\", names = total_features)\n",
    "test_data_5 = pd.read_csv(\"Dataset/Testing/TestSet/Test_Case_5.csv\", names = total_features)"
   ]
  },
  {
   "cell_type": "markdown",
   "metadata": {},
   "source": [
    "### Create features (numeric/catagorical/label)"
   ]
  },
  {
   "cell_type": "code",
   "execution_count": 26,
   "metadata": {},
   "outputs": [],
   "source": [
    "# All binary encoded as catagorical features\n",
    "cat_attribs = total_features[39:-1]\n",
    "cat_attribs.insert(0, total_features[37])\n",
    "\n",
    "# anything else as numeric features\n",
    "num_attribs = total_features[:-17]\n",
    "num_attribs.append(total_features[38])\n",
    "\n",
    "# target feature (Number of Comments in the Next H Hours) last column\n",
    "target_feature = total_features[-1:]"
   ]
  },
  {
   "cell_type": "markdown",
   "metadata": {},
   "source": [
    "### Create Pipeline"
   ]
  },
  {
   "cell_type": "code",
   "execution_count": 33,
   "metadata": {},
   "outputs": [],
   "source": [
    "# Create full-pipeline \n",
    "from sklearn.pipeline import Pipeline\n",
    "from sklearn.preprocessing import StandardScaler\n",
    "from sklearn.compose import ColumnTransformer\n",
    "from sklearn.preprocessing import OneHotEncoder\n",
    "\n",
    "full_pipeline = ColumnTransformer([\n",
    "        (\"cat\", OneHotEncoder(), cat_attribs),\n",
    "        (\"num\", StandardScaler(), num_attribs),\n",
    "    ])"
   ]
  },
  {
   "cell_type": "markdown",
   "metadata": {},
   "source": [
    "### Fit and Transform with Pipeline"
   ]
  },
  {
   "cell_type": "code",
   "execution_count": 34,
   "metadata": {},
   "outputs": [],
   "source": [
    "# Run  pipeline on training and test sets. transform the training data and test data's features and label\n",
    "\n",
    "# Dataset 1\n",
    "training_data_1_features = full_pipeline.fit_transform(train_data_1.drop(target_feature[0], axis=1))\n",
    "training_data_1_target = train_data_1[target_feature[0]].copy()\n",
    "test_data_1_features = full_pipeline.transform(test_data_1.drop(target_feature[0], axis=1))\n",
    "test_data_1_target = test_data_1[target_feature[0]].copy()\n",
    "\n",
    "# Dataset 2\n",
    "training_data_2_features = full_pipeline.fit_transform(train_data_2.drop(target_feature[0], axis=1))\n",
    "training_data_2_target = train_data_2[target_feature[0]].copy()\n",
    "test_data_2_features = full_pipeline.transform(test_data_2.drop(target_feature[0], axis=1))\n",
    "test_data_2_target = test_data_2[target_feature[0]].copy()\n",
    "\n",
    "# Dataset 3\n",
    "training_data_3_features = full_pipeline.fit_transform(train_data_3.drop(target_feature[0], axis=1))\n",
    "training_data_3_target = train_data_3[target_feature[0]].copy()\n",
    "test_data_3_features = full_pipeline.transform(test_data_3.drop(target_feature[0], axis=1))\n",
    "test_data_3_target = test_data_3[target_feature[0]].copy()\n",
    "\n",
    "# Dataset 4\n",
    "training_data_4_features = full_pipeline.fit_transform(train_data_4.drop(target_feature[0], axis=1))\n",
    "training_data_4_target = train_data_4[target_feature[0]].copy()\n",
    "test_data_4_features = full_pipeline.transform(test_data_4.drop(target_feature[0], axis=1))\n",
    "test_data_4_target = test_data_4[target_feature[0]].copy()\n",
    "\n",
    "# Dataset 5\n",
    "training_data_5_features = full_pipeline.fit_transform(train_data_5.drop(target_feature[0], axis=1))\n",
    "training_data_5_target = train_data_5[target_feature[0]].copy()                                             \n",
    "test_data_5_features = full_pipeline.transform(test_data_5.drop(target_feature[0], axis=1))\n",
    "test_data_5_target = test_data_5[target_feature[0]].copy()                                                       "
   ]
  },
  {
   "cell_type": "markdown",
   "metadata": {},
   "source": [
    "### Create data dictionary"
   ]
  },
  {
   "cell_type": "code",
   "execution_count": 38,
   "metadata": {},
   "outputs": [],
   "source": [
    "data = dict([(1, [training_data_1_features, \\\n",
    "               np.array(training_data_1_target), \\\n",
    "               test_data_1_features, \\\n",
    "               np.array(test_data_1_target)]),\n",
    "         (2, [training_data_2_features, \\\n",
    "               np.array(training_data_2_target), \\\n",
    "               test_data_2_features, \\\n",
    "               np.array(test_data_2_target)]),\n",
    "         (3, [training_data_3_features, \\\n",
    "               np.array(training_data_3_target), \\\n",
    "               test_data_3_features, \\\n",
    "               np.array(test_data_3_target)]),\n",
    "         (4, [training_data_4_features, \\\n",
    "               np.array(training_data_4_target), \\\n",
    "               test_data_4_features, \\\n",
    "               np.array(test_data_4_target)]),\n",
    "         (5, [training_data_5_features, \\\n",
    "               np.array(training_data_5_target), \\\n",
    "               test_data_5_features, \\\n",
    "               np.array(test_data_5_target)])    \n",
    "         ])"
   ]
  },
  {
   "cell_type": "markdown",
   "metadata": {},
   "source": [
    "# Random Forest Regressor"
   ]
  },
  {
   "cell_type": "code",
   "execution_count": 39,
   "metadata": {},
   "outputs": [],
   "source": [
    "from sklearn.model_selection import RandomizedSearchCV\n",
    "from sklearn.ensemble import RandomForestRegressor\n",
    "\n",
    "random_forest_regressor = RandomForestRegressor()\n",
    "\n",
    "param = {'n_estimators' : [10, 50, 100], 'max_features' : [0.1, 0.5], 'max_depth': [2, 5, 7],\n",
    "         'min_samples_split' : [0.1, 0.5], 'min_samples_leaf' :  [0.1, 0.5],\n",
    "         'max_leaf_nodes' : [2, 7, 10]}\n",
    "\n",
    "random_search_regressor_forest = RandomizedSearchCV(random_forest_regressor, param, cv = 4, scoring='neg_mean_absolute_error', \n",
    "                                  refit = True, n_jobs = -1, verbose = 2)"
   ]
  },
  {
   "cell_type": "markdown",
   "metadata": {},
   "source": [
    "### Create functions to make moduler"
   ]
  },
  {
   "cell_type": "code",
   "execution_count": 137,
   "metadata": {},
   "outputs": [],
   "source": [
    "from sklearn.metrics import roc_auc_score\n",
    "from sklearn.metrics import mean_absolute_error, accuracy_score\n",
    "\n",
    "def get_fit_model(X, y):\n",
    "    model = random_search_regressor_forest.fit(X, y)\n",
    "    #print_best(model)\n",
    "    return model\n",
    "\n",
    "def print_best(model):\n",
    "    print(model.best_params_)\n",
    "    print(model.best_estimator_)\n",
    "    \n",
    "def predict_model(model, X, label):\n",
    "    starttime = time.time()\n",
    "    predicted_y = model.predict(X)\n",
    "    endtime = time.time()\n",
    "    \n",
    "    #print(\"Processing time for\", label, \"model took {:.1f}s.\".format(endtime - starttime))\n",
    "    return predicted_y, round(endtime - starttime, 4)\n",
    "\n",
    "def get_true_hits(actual_y, predicted_y, label):\n",
    "    model_index = np.array([i for i in range(len(actual_y))])\n",
    "    top10_index_predicted = pd.DataFrame(data = {'Indexes' : model_index, 'Predicted_Values' : predicted_y}).sort_values(by=['Predicted_Values'])['Indexes'][0:10,]\n",
    "    top10_index_actuals = pd.DataFrame(data = {'Indexes' : model_index, 'Actual_Values' : actual_y}).sort_values(by=['Actual_Values'])['Indexes'][0:10,]\n",
    "    truehits = np.intersect1d(top10_index_predicted,top10_index_actuals).shape[0]\n",
    "    \n",
    "    #print(\"True Hits for\", label, \": \", truehits)\n",
    "    return truehits\n",
    "\n",
    "def get_roc_auc_score(actual_y, predicted_y, label):\n",
    "    top10_predicted = np.sort(predicted_y)[-10:]\n",
    "    top10_actuals = np.sort(actual_y)[-10:]\n",
    "\n",
    "    predictions_binary = (predicted_y >= top10_predicted[0])\n",
    "    predictions_binary = predictions_binary * 1\n",
    "\n",
    "    actuals_binary = (actual_y >= top10_actuals[0])\n",
    "    actuals_binary = actuals_binary * 1\n",
    "\n",
    "    score = roc_auc_score(actuals_binary, predictions_binary)\n",
    "    #print(\"ROC / AUC Score for\", label, \": \", score)\n",
    "    return score\n",
    "\n",
    "def get_mean_absolute_error(actual_y, predicted_y, label):\n",
    "    error =  mean_absolute_error(actual_y, predicted_y)\n",
    "    #print(\"Mean Absolute Error for\", label, \": \", error)\n",
    "    \n",
    "    return error\n",
    "\n",
    "def get_accuracy_score(actual_y, predicted_y):\n",
    "    return accuracy_score(actual_y, predicted_y)\n",
    "\n",
    "def predict_result(model, X, y, label, result_to_test=False):\n",
    "    predicted_y, cal_time = predict_model(model.best_estimator_, X, label)\n",
    "    \n",
    "    true_hit = get_true_hits(y, predicted_y, label)\n",
    "    cal_roc_auc_score = get_roc_auc_score(y, predicted_y, label)\n",
    "    cal_mean_absolute_error = get_mean_absolute_error(y, predicted_y, label)\n",
    "\n",
    "    if (result_to_test):\n",
    "        list_of_hits_test_rf.append(true_hit)\n",
    "        list_of_auc_test_rf.append(cal_roc_auc_score)\n",
    "        list_of_mae_test_rf.append(cal_mean_absolute_error)\n",
    "        list_of_eval_time_test_rf.append(cal_time)\n",
    "    else :\n",
    "        list_of_hits_variant_rf.append(true_hit)\n",
    "        list_of_auc_variant_rf.append(cal_roc_auc_score)\n",
    "        list_of_mae_variant_rf.append(cal_mean_absolute_error)\n",
    "        list_of_eval_time_variant_rf.append(cal_time)\n",
    "            \n",
    "def plot_chart(axes, data, xcols, xlabel, ylabel, title):\n",
    "    plt.subplot(axes)\n",
    "    y_hits = data\n",
    "    x_hits = xcols\n",
    "    plt.xticks(rotation = 'vertical')\n",
    "    sns.barplot(x=x_hits, y=y_hits)\n",
    "    plt.xlabel(xlabel)\n",
    "    plt.ylabel(ylabel)\n",
    "    plt.title(title)\n",
    "\n",
    "def create_result_rf(list_of_hits, list_of_auc, list_of_mae, list_of_eval_time, istest=False):\n",
    "    columns=['Variant 1', 'Variant 2', 'Variant 3', 'Variant 4', 'Variant 5']\n",
    "    if (istest):\n",
    "        columns=['Test Case 1', 'Test Case 2', 'Test Case 3', 'Test Case 4', 'Test Case 5']\n",
    "        \n",
    "    return pd.DataFrame([list_of_hits, list_of_auc, list_of_mae, list_of_eval_time],\n",
    "                      index=['True Hits', 'AUC', 'MAE', 'Time'],\n",
    "                      columns=columns)\n",
    "\n",
    "def plot_random_forest():\n",
    "    plt.figure(figsize=(25, 5))\n",
    "\n",
    "    x_cols = ['True Hits 1' ,'True Hits 2' ,'True Hits 3' ,'True Hits 4','True Hits 5']\n",
    "    plot_chart(141, list_of_hits_test_rf, x_cols, 'Test Sets', 'True Hits', 'Bar Plot of Hits for 5 Test Sets')\n",
    "\n",
    "    x_cols = ['ROC Model 1','ROC Model 2','ROC Model 3','ROC Model 4','ROC Model 5']\n",
    "    plot_chart(142, list_of_auc_test_rf, x_cols, 'Test Sets', 'AUC Score', 'Bar Plot of AUC for 5 Test Sets')\n",
    "\n",
    "\n",
    "    x_cols = ['MAE Model 1','MAE Model 2','MAE Model 3','MAE Model 4','MAE Model 5']\n",
    "    plot_chart(143, list_of_mae_test_rf, x_cols, 'Test Sets', 'MAE Error', 'Bar Plot of MAE for 5 Test Sets')\n",
    "\n",
    "\n",
    "    x_cols = ['Time Model 1','Time Model 2','Time Model 3','Time Model 4','Time Model 5']\n",
    "    plot_chart(144, list_of_eval_time_test_rf, x_cols, 'Test Sets', 'Time', 'Bar Plot of Evaluation Time for 5 Test Sets')"
   ]
  },
  {
   "cell_type": "code",
   "execution_count": 58,
   "metadata": {},
   "outputs": [],
   "source": [
    "# Declare result summary lists\n",
    "list_of_hits_variant_rf = []\n",
    "list_of_auc_variant_rf = []\n",
    "list_of_mae_variant_rf = []\n",
    "list_of_eval_time_variant_rf = []\n",
    "\n",
    "list_of_hits_test_rf = []\n",
    "list_of_auc_test_rf = []\n",
    "list_of_mae_test_rf = []\n",
    "list_of_eval_time_test_rf = []"
   ]
  },
  {
   "cell_type": "code",
   "execution_count": 59,
   "metadata": {},
   "outputs": [
    {
     "name": "stdout",
     "output_type": "stream",
     "text": [
      "Train model on dataset 1\n",
      "Fitting 4 folds for each of 10 candidates, totalling 40 fits\n"
     ]
    },
    {
     "name": "stderr",
     "output_type": "stream",
     "text": [
      "[Parallel(n_jobs=-1)]: Using backend LokyBackend with 8 concurrent workers.\n",
      "[Parallel(n_jobs=-1)]: Done  25 tasks      | elapsed:    3.4s\n",
      "[Parallel(n_jobs=-1)]: Done  40 out of  40 | elapsed:    3.6s finished\n"
     ]
    },
    {
     "name": "stdout",
     "output_type": "stream",
     "text": [
      "Predict result for training set\n",
      "Processing time for  model took 0.1s.\n",
      "Predict result for test set\n",
      "Processing time for  model took 0.0s.\n",
      "Train model on dataset 2\n",
      "Fitting 4 folds for each of 10 candidates, totalling 40 fits\n"
     ]
    },
    {
     "name": "stderr",
     "output_type": "stream",
     "text": [
      "[Parallel(n_jobs=-1)]: Using backend LokyBackend with 8 concurrent workers.\n",
      "[Parallel(n_jobs=-1)]: Done  25 tasks      | elapsed:    3.7s\n",
      "[Parallel(n_jobs=-1)]: Done  40 out of  40 | elapsed:   20.1s finished\n"
     ]
    },
    {
     "name": "stdout",
     "output_type": "stream",
     "text": [
      "Predict result for training set\n",
      "Processing time for  model took 0.2s.\n",
      "Predict result for test set\n",
      "Processing time for  model took 0.0s.\n",
      "Train model on dataset 3\n",
      "Fitting 4 folds for each of 10 candidates, totalling 40 fits\n"
     ]
    },
    {
     "name": "stderr",
     "output_type": "stream",
     "text": [
      "[Parallel(n_jobs=-1)]: Using backend LokyBackend with 8 concurrent workers.\n",
      "[Parallel(n_jobs=-1)]: Done  25 tasks      | elapsed:    6.8s\n",
      "[Parallel(n_jobs=-1)]: Done  40 out of  40 | elapsed:    7.9s finished\n"
     ]
    },
    {
     "name": "stdout",
     "output_type": "stream",
     "text": [
      "Predict result for training set\n",
      "Processing time for  model took 0.2s.\n",
      "Predict result for test set\n",
      "Processing time for  model took 0.0s.\n",
      "Train model on dataset 4\n",
      "Fitting 4 folds for each of 10 candidates, totalling 40 fits\n"
     ]
    },
    {
     "name": "stderr",
     "output_type": "stream",
     "text": [
      "[Parallel(n_jobs=-1)]: Using backend LokyBackend with 8 concurrent workers.\n",
      "[Parallel(n_jobs=-1)]: Done  25 tasks      | elapsed:    8.7s\n",
      "[Parallel(n_jobs=-1)]: Done  40 out of  40 | elapsed:   27.4s finished\n"
     ]
    },
    {
     "name": "stdout",
     "output_type": "stream",
     "text": [
      "Predict result for training set\n",
      "Processing time for  model took 0.3s.\n",
      "Predict result for test set\n",
      "Processing time for  model took 0.0s.\n",
      "Train model on dataset 5\n",
      "Fitting 4 folds for each of 10 candidates, totalling 40 fits\n"
     ]
    },
    {
     "name": "stderr",
     "output_type": "stream",
     "text": [
      "[Parallel(n_jobs=-1)]: Using backend LokyBackend with 8 concurrent workers.\n",
      "[Parallel(n_jobs=-1)]: Done  25 tasks      | elapsed:   38.7s\n",
      "[Parallel(n_jobs=-1)]: Done  40 out of  40 | elapsed:   41.9s finished\n"
     ]
    },
    {
     "name": "stdout",
     "output_type": "stream",
     "text": [
      "Predict result for training set\n",
      "Processing time for  model took 0.2s.\n",
      "Predict result for test set\n",
      "Processing time for  model took 0.0s.\n",
      "Trained all models. Process finished!\n",
      "Total processing time to predict result for all data through Random Forest Regressor took 141.7s.\n"
     ]
    }
   ],
   "source": [
    "# train all models \n",
    "start = time.time()\n",
    "for i, d in data.items():\n",
    "    \n",
    "    print('Train model on dataset', i)\n",
    "    model = get_fit_model(d[0], d[1])\n",
    "\n",
    "    print('Predict result for training set')\n",
    "    predict_result(model, d[0], d[1], '')  \n",
    "    \n",
    "    print('Predict result for test set')\n",
    "    predict_result(model, d[2], d[3], '', True)\n",
    "end = time.time()\n",
    "print('Train all models. Process finished!')\n",
    "print(\"Total processing time to predict result for all data through Random Forest Regressor took {:.1f}s.\".format(end - start))"
   ]
  },
  {
   "cell_type": "markdown",
   "metadata": {},
   "source": [
    "### Random Forest Result Summary"
   ]
  },
  {
   "cell_type": "markdown",
   "metadata": {},
   "source": [
    "- Test Models Result"
   ]
  },
  {
   "cell_type": "code",
   "execution_count": 62,
   "metadata": {},
   "outputs": [
    {
     "data": {
      "text/html": [
       "<div>\n",
       "<style scoped>\n",
       "    .dataframe tbody tr th:only-of-type {\n",
       "        vertical-align: middle;\n",
       "    }\n",
       "\n",
       "    .dataframe tbody tr th {\n",
       "        vertical-align: top;\n",
       "    }\n",
       "\n",
       "    .dataframe thead th {\n",
       "        text-align: right;\n",
       "    }\n",
       "</style>\n",
       "<table border=\"1\" class=\"dataframe\">\n",
       "  <thead>\n",
       "    <tr style=\"text-align: right;\">\n",
       "      <th></th>\n",
       "      <th>Test Case 1</th>\n",
       "      <th>Test Case 2</th>\n",
       "      <th>Test Case 3</th>\n",
       "      <th>Test Case 4</th>\n",
       "      <th>Test Case 5</th>\n",
       "    </tr>\n",
       "  </thead>\n",
       "  <tbody>\n",
       "    <tr>\n",
       "      <th>True Hits</th>\n",
       "      <td>3.000000</td>\n",
       "      <td>2.000000</td>\n",
       "      <td>2.000000</td>\n",
       "      <td>4.000000</td>\n",
       "      <td>3.000000</td>\n",
       "    </tr>\n",
       "    <tr>\n",
       "      <th>AUC</th>\n",
       "      <td>0.816667</td>\n",
       "      <td>0.711111</td>\n",
       "      <td>0.611111</td>\n",
       "      <td>0.666667</td>\n",
       "      <td>0.550000</td>\n",
       "    </tr>\n",
       "    <tr>\n",
       "      <th>MAE</th>\n",
       "      <td>32.278557</td>\n",
       "      <td>25.135286</td>\n",
       "      <td>16.630174</td>\n",
       "      <td>36.515024</td>\n",
       "      <td>24.028726</td>\n",
       "    </tr>\n",
       "    <tr>\n",
       "      <th>Time</th>\n",
       "      <td>0.003800</td>\n",
       "      <td>0.004000</td>\n",
       "      <td>0.004400</td>\n",
       "      <td>0.004100</td>\n",
       "      <td>0.002600</td>\n",
       "    </tr>\n",
       "  </tbody>\n",
       "</table>\n",
       "</div>"
      ],
      "text/plain": [
       "           Test Case 1  Test Case 2  Test Case 3  Test Case 4  Test Case 5\n",
       "True Hits     3.000000     2.000000     2.000000     4.000000     3.000000\n",
       "AUC           0.816667     0.711111     0.611111     0.666667     0.550000\n",
       "MAE          32.278557    25.135286    16.630174    36.515024    24.028726\n",
       "Time          0.003800     0.004000     0.004400     0.004100     0.002600"
      ]
     },
     "execution_count": 62,
     "metadata": {},
     "output_type": "execute_result"
    }
   ],
   "source": [
    "create_result_rf(list_of_hits_test_rf, list_of_auc_test_rf, list_of_mae_test_rf, list_of_eval_time_test_rf, True)"
   ]
  },
  {
   "cell_type": "markdown",
   "metadata": {},
   "source": [
    "- Training Models Result"
   ]
  },
  {
   "cell_type": "code",
   "execution_count": 63,
   "metadata": {},
   "outputs": [
    {
     "data": {
      "text/html": [
       "<div>\n",
       "<style scoped>\n",
       "    .dataframe tbody tr th:only-of-type {\n",
       "        vertical-align: middle;\n",
       "    }\n",
       "\n",
       "    .dataframe tbody tr th {\n",
       "        vertical-align: top;\n",
       "    }\n",
       "\n",
       "    .dataframe thead th {\n",
       "        text-align: right;\n",
       "    }\n",
       "</style>\n",
       "<table border=\"1\" class=\"dataframe\">\n",
       "  <thead>\n",
       "    <tr style=\"text-align: right;\">\n",
       "      <th></th>\n",
       "      <th>Variant 1</th>\n",
       "      <th>Variant 2</th>\n",
       "      <th>Variant 3</th>\n",
       "      <th>Variant 4</th>\n",
       "      <th>Variant 5</th>\n",
       "    </tr>\n",
       "  </thead>\n",
       "  <tbody>\n",
       "    <tr>\n",
       "      <th>True Hits</th>\n",
       "      <td>0.000000</td>\n",
       "      <td>0.000000</td>\n",
       "      <td>0.000000</td>\n",
       "      <td>1.000000</td>\n",
       "      <td>1.000000</td>\n",
       "    </tr>\n",
       "    <tr>\n",
       "      <th>AUC</th>\n",
       "      <td>0.787945</td>\n",
       "      <td>0.790431</td>\n",
       "      <td>0.634221</td>\n",
       "      <td>0.644461</td>\n",
       "      <td>0.682939</td>\n",
       "    </tr>\n",
       "    <tr>\n",
       "      <th>MAE</th>\n",
       "      <td>8.008491</td>\n",
       "      <td>7.923967</td>\n",
       "      <td>8.594398</td>\n",
       "      <td>7.860961</td>\n",
       "      <td>7.797250</td>\n",
       "    </tr>\n",
       "    <tr>\n",
       "      <th>Time</th>\n",
       "      <td>0.060100</td>\n",
       "      <td>0.177200</td>\n",
       "      <td>0.170500</td>\n",
       "      <td>0.292500</td>\n",
       "      <td>0.167200</td>\n",
       "    </tr>\n",
       "  </tbody>\n",
       "</table>\n",
       "</div>"
      ],
      "text/plain": [
       "           Variant 1  Variant 2  Variant 3  Variant 4  Variant 5\n",
       "True Hits   0.000000   0.000000   0.000000   1.000000   1.000000\n",
       "AUC         0.787945   0.790431   0.634221   0.644461   0.682939\n",
       "MAE         8.008491   7.923967   8.594398   7.860961   7.797250\n",
       "Time        0.060100   0.177200   0.170500   0.292500   0.167200"
      ]
     },
     "execution_count": 63,
     "metadata": {},
     "output_type": "execute_result"
    }
   ],
   "source": [
    "create_result_rf(list_of_hits_variant_rf, list_of_auc_variant_rf, list_of_mae_variant_rf, list_of_eval_time_variant_rf)"
   ]
  },
  {
   "cell_type": "markdown",
   "metadata": {},
   "source": [
    "\n",
    "# Deep Neural Networks\n",
    "\n",
    "- Initialization: He Initialization\n",
    "- Activation Function: SELU\n",
    "- Normalization: Batch Normalization\n",
    "- Regularization: Dropout\n",
    "- Optimizer: Adam\n",
    "- Learning Rate Schedule: None"
   ]
  },
  {
   "cell_type": "code",
   "execution_count": 64,
   "metadata": {},
   "outputs": [],
   "source": [
    "# Reset graph function\n",
    "def reset_graph(seed=123):\n",
    "    tf.reset_default_graph()\n",
    "    tf.set_random_seed(seed)\n",
    "    np.random.seed(seed)"
   ]
  },
  {
   "cell_type": "code",
   "execution_count": 65,
   "metadata": {},
   "outputs": [],
   "source": [
    "# define the directory to write the TensorBoard logs to:\n",
    "def log_dir(prefix=\"\"):\n",
    "    now = datetime.utcnow().strftime(\"%Y%m%d%H%M%S\")\n",
    "    root_logdir = \"tf_logs\"\n",
    "    if prefix:\n",
    "        prefix += \"-\"\n",
    "    name = prefix + \"run-\" + now\n",
    "    return \"{}/{}/\".format(root_logdir, name)\n",
    "\n",
    "logdir = log_dir(\"TensorLogs\")"
   ]
  },
  {
   "cell_type": "markdown",
   "metadata": {},
   "source": [
    "### Tensorflow Construction Phase"
   ]
  },
  {
   "cell_type": "code",
   "execution_count": 140,
   "metadata": {},
   "outputs": [],
   "source": [
    "# Build a DNN with 2 hidden layers, He initialization, and the RELU activation function.\n",
    "reset_graph()\n",
    "\n",
    "n_inputs = training_data_1_features.shape[1]\n",
    "n_hidden1 = 2\n",
    "n_hidden2 = 2\n",
    "n_outputs = 1\n",
    "\n",
    "learning_rate = 0.0001\n",
    "\n",
    "X = tf.placeholder(tf.float32, shape=(None, n_inputs), name=\"X\")\n",
    "y = tf.placeholder(tf.float32, shape=(None), name=\"y\")\n",
    "\n",
    "# Implement dropout\n",
    "training = tf.placeholder_with_default(False, shape=(), name='training')\n",
    "dropout_rate = 0.5\n",
    "X_drop = tf.layers.dropout(X, dropout_rate, training=training)\n",
    "\n",
    "with tf.name_scope(\"dnn\"):\n",
    "    hidden1 = tf.layers.dense(X_drop, n_hidden1, name=\"hidden1\", activation=tf.nn.relu)\n",
    "    hidden2 = tf.layers.dense(hidden1, n_hidden2, name=\"hidden2\", activation=tf.nn.relu)\n",
    "    logit = tf.layers.dense(hidden2, n_outputs, name=\"outputs\")   \n",
    "    logits = logit[:, 0]\n",
    "    \n",
    "with tf.name_scope(\"loss\"):\n",
    "    mse = tf.losses.mean_squared_error(labels=y, predictions=logits)\n",
    "    loss = tf.reduce_mean(mse, name=\"loss\")\n",
    "    loss_summary = tf.summary.scalar('loss', loss)\n",
    "    \n",
    "with tf.name_scope(\"train\"):\n",
    "    optimizer = tf.train.AdamOptimizer(learning_rate)\n",
    "    training_op = optimizer.minimize(loss)\n",
    "\n",
    "with tf.name_scope(\"eval\"):\n",
    "    \n",
    "    # MAE\n",
    "    mae = tf.reduce_mean(tf.abs(y-logits))\n",
    "    mae_summary = tf.summary.scalar('mae', mae) # MAE DONE\n",
    "    \n",
    "    # Hits\n",
    "    # First, get top 10 values for labels and logits; this will be used for Hits and AUC\n",
    "    top_10_labels_vals, top_10_labels_index = tf.nn.top_k(y, 10)\n",
    "    top_10_logits_vals, top_10_logits_index = tf.nn.top_k(logits, 10)\n",
    "    \n",
    "    # Next, find the intersection of indexes for the top 10 values and use this for Hits\n",
    "    hits = tf.sets.set_intersection(top_10_labels_index, top_10_logits_index[None])\n",
    "    hits_10 = tf.size(hits)\n",
    "    hits_summary = tf.summary.scalar('hits_10', hits_10)\n",
    "    \n",
    "    #AUC\n",
    "    label_bool = tf.greater_equal(y, tf.reduce_min(top_10_labels_vals))\n",
    "    label = tf.cast(label_bool, tf.int32)\n",
    "    \n",
    "    predictions_bool = tf.greater_equal(logits, tf.reduce_min(top_10_logits_vals))\n",
    "    prediction = tf.cast(predictions_bool, tf.int32)\n",
    " \n",
    "    _,auc = tf.metrics.auc(label, prediction)\n",
    "    \n",
    "    #Accuracy\n",
    "    _,accuracy = tf.metrics.accuracy(label, prediction)\n",
    "    \n",
    "saver = tf.train.Saver(max_to_keep=100000)"
   ]
  },
  {
   "cell_type": "markdown",
   "metadata": {},
   "source": [
    "### Helper functions and Train DNN"
   ]
  },
  {
   "cell_type": "code",
   "execution_count": 141,
   "metadata": {},
   "outputs": [],
   "source": [
    "# declare files variables\n",
    "tmp_path = 'tmp/'\n",
    "checkpoint_file = '_train_dnn_reg_model.ckpt'\n",
    "model_path = 'models/'\n",
    "model_file = '_train_dnn_reg_model'\n",
    "\n",
    "# Helper functions\n",
    "def build_path(num):\n",
    "    checkpoint_path = tmp_path + str(num) + checkpoint_file\n",
    "    checkpoint_epoch_path = checkpoint_path + \".epoch\"\n",
    "    final_model_path = model_path + str(num) + model_file\n",
    "    return checkpoint_path, checkpoint_epoch_path, final_model_path\n",
    "\n",
    "# random batch function\n",
    "def random_batch(X_train, y_train, batch_size):\n",
    "    rnd_indices = np.random.randint(0, len(X_train), batch_size)\n",
    "    X_batch = X_train[rnd_indices]\n",
    "    y_batch = y_train[rnd_indices]\n",
    "    return X_batch, y_batch\n",
    "\n",
    "# delete files utility functions\n",
    "def delete_file(file):\n",
    "    with tf.Session() as sess:\n",
    "        if os.path.isfile(file):\n",
    "            os.remove(file)\n",
    "\n",
    "def delete_files():\n",
    "    for i in data:\n",
    "        _,checkpoint_epoch_path,_ = build_path(i)\n",
    "        delete_file(checkpoint_epoch_path)\n",
    "        \n",
    "# create the FileWriter that we will use to write the TensorBoard logs:\n",
    "file_writer = tf.summary.FileWriter(logdir, tf.get_default_graph())\n",
    "            \n",
    "# Traing dnn\n",
    "def train_dnn(X_train, y_train, X_test, y_test, num): \n",
    "    # local variables\n",
    "    n_epochs = 50\n",
    "    batch_size = 25\n",
    "    n_batches = int(np.ceil(X_train.shape[0] / batch_size))\n",
    "    start_epoch = 0\n",
    "\n",
    "    # setting up path\n",
    "    checkpoint_path, checkpoint_epoch_path, final_model_path = build_path(num)\n",
    "    starttime = time.time()\n",
    "\n",
    "    # start session\n",
    "    with tf.Session() as sess:\n",
    "        if os.path.isfile(checkpoint_epoch_path):\n",
    "            # if the checkpoint file exists, restore the model and load the epoch number\n",
    "            with open(checkpoint_epoch_path, \"rb\") as f:\n",
    "                start_epoch = int(f.read())\n",
    "            print(\"Training was interrupted. Continuing at epoch\", start_epoch)\n",
    "            saver.restore(sess, checkpoint_path)\n",
    "        else:\n",
    "            start_epoch = 0\n",
    "            sess.run(tf.global_variables_initializer())\n",
    "            sess.run(tf.local_variables_initializer())\n",
    "            for epoch in range(start_epoch, n_epochs):\n",
    "                for iteration in range(int(np.ceil(len(X_train) // batch_size))):\n",
    "                    X_batch, y_batch = random_batch(X_train, y_train, batch_size)\n",
    "                    sess.run(training_op, feed_dict={X: X_batch, y: y_batch})          \n",
    "\n",
    "                loss_val, summary_str = sess.run([loss, loss_summary], feed_dict = {X : X_test, y : y_test})\n",
    "                file_writer.add_summary(summary_str, epoch)\n",
    "                if epoch % 2 == 0:\n",
    "                    #print(\"Epoch:\", epoch, \"\\tLoss:\", loss_val)\n",
    "                    saver.save(sess, checkpoint_path)\n",
    "                    with open(checkpoint_epoch_path, \"wb\") as f:\n",
    "                        f.write(b\"%d\" % (epoch + 1))\n",
    "\n",
    "        saver.save(sess, final_model_path)\n",
    "        print(\"Saving file: \", final_model_path)\n",
    "        print(\"Train model completed.\")\n",
    "    endtime = time.time()\n",
    "    return starttime, endtime\n",
    "\n",
    "def create_result_mls(list_of_hits, list_of_auc, list_of_mae, list_of_accuracy, list_of_eval_time, istest=False):\n",
    "    columns=['Variant 1', 'Variant 2', 'Variant 3', 'Variant 4', 'Variant 5']\n",
    "    if (istest):\n",
    "        columns=['Test Case 1', 'Test Case 2', 'Test Case 3', 'Test Case 4', 'Test Case 5']\n",
    "        \n",
    "    return pd.DataFrame([list_of_hits, list_of_auc, list_of_mae, list_of_accuracy, list_of_eval_time],\n",
    "                      index=['True Hits', 'AUC', 'MAE', 'Accuracy', 'Time'],\n",
    "                      columns=columns)\n",
    "\n",
    "def plot_dnn_result():\n",
    "    plt.figure(figsize=(25, 5))\n",
    "\n",
    "    x_cols = ['True Hits 1' ,'True Hits 2' ,'True Hits 3' ,'True Hits 4','True Hits 5']\n",
    "    plot_chart(141, list_of_hits_test_mpl, x_cols, 'Test Sets', 'True Hits', 'Bar Plot of Hits for 5 Test Sets')\n",
    "\n",
    "    x_cols = ['ROC Model 1','ROC Model 2','ROC Model 3','ROC Model 4','ROC Model 5']\n",
    "    plot_chart(142, list_of_auc_test_mpl, x_cols, 'Test Sets', 'AUC Score', 'Bar Plot of AUC for 5 Test Sets')\n",
    "\n",
    "\n",
    "    x_cols = ['MAE Model 1','MAE Model 2','MAE Model 3','MAE Model 4','MAE Model 5']\n",
    "    plot_chart(143, list_of_mae_test_mpl, x_cols, 'Test Sets', 'MAE Error', 'Bar Plot of MAE for 5 Test Sets')\n",
    "\n",
    "\n",
    "    x_cols = ['Time Model 1','Time Model 2','Time Model 3','Time Model 4','Time Model 5']\n",
    "    plot_chart(144, list_of_eval_time_test_mpl, x_cols, 'Test Sets', 'Time', 'Bar Plot of Evaluation Time for 5 Test Sets')"
   ]
  },
  {
   "cell_type": "code",
   "execution_count": 68,
   "metadata": {},
   "outputs": [],
   "source": [
    "# Declare result summary lists\n",
    "list_of_hits_test_mpl = []\n",
    "list_of_auc_test_mpl = []\n",
    "list_of_mae_test_mpl = []\n",
    "list_of_eval_time_test_mpl = []\n",
    "list_of_accuracy_test_mpl = []"
   ]
  },
  {
   "cell_type": "code",
   "execution_count": 69,
   "metadata": {},
   "outputs": [],
   "source": [
    "# delete epoch files to make process refresh again, make commit following line to get result from old files.\n",
    "delete_files()"
   ]
  },
  {
   "cell_type": "markdown",
   "metadata": {},
   "source": [
    "### Tensorflow Execution Phase"
   ]
  },
  {
   "cell_type": "code",
   "execution_count": 70,
   "metadata": {},
   "outputs": [
    {
     "name": "stdout",
     "output_type": "stream",
     "text": [
      "Train DNN for dataset 1\n",
      "Saving file:  models/1_train_dnn_reg_model\n",
      "Train model completed.\n",
      "Train DNN for dataset 2\n",
      "Saving file:  models/2_train_dnn_reg_model\n",
      "Train model completed.\n",
      "Train DNN for dataset 3\n",
      "Saving file:  models/3_train_dnn_reg_model\n",
      "Train model completed.\n",
      "Train DNN for dataset 4\n",
      "Saving file:  models/4_train_dnn_reg_model\n",
      "Train model completed.\n",
      "Train DNN for dataset 5\n",
      "Saving file:  models/5_train_dnn_reg_model\n",
      "Train model completed.\n",
      "Train all models. Process finished!\n",
      "Total processing time to predict result for all data through Neural Networks took 595.3s.\n"
     ]
    }
   ],
   "source": [
    "start = time.time()\n",
    "# train all models \n",
    "for i, d in data.items():\n",
    "    print('Train DNN for dataset', i)\n",
    "    starttime, endtime = train_dnn(d[0], d[1], d[2], d[3], i)\n",
    "    list_of_eval_time_test_mpl.append(round(endtime-starttime, 4))\n",
    "end = time.time()\n",
    "print('Train all models. Process finished!')\n",
    "print(\"Total processing time to train for all data through Neural Networks took {:.1f}s.\".format(end - start))"
   ]
  },
  {
   "cell_type": "markdown",
   "metadata": {},
   "source": [
    "### Create Results from Saved Sessions"
   ]
  },
  {
   "cell_type": "code",
   "execution_count": 71,
   "metadata": {},
   "outputs": [
    {
     "name": "stdout",
     "output_type": "stream",
     "text": [
      "INFO:tensorflow:Restoring parameters from models/1_train_dnn_reg_model\n",
      "INFO:tensorflow:Restoring parameters from models/1_train_dnn_reg_model\n",
      "INFO:tensorflow:Restoring parameters from models/1_train_dnn_reg_model\n",
      "INFO:tensorflow:Restoring parameters from models/1_train_dnn_reg_model\n",
      "INFO:tensorflow:Restoring parameters from models/1_train_dnn_reg_model\n"
     ]
    }
   ],
   "source": [
    "# process all metrices from saved models (top 10 predictions)\n",
    "for i, d in data.items():\n",
    "    _,_,final_model_path = build_path(1)\n",
    "    with tf.Session() as sess:\n",
    "        sess.run(tf.local_variables_initializer())\n",
    "        saver.restore(sess, final_model_path)\n",
    "\n",
    "        list_of_mae_test_mpl.append(mae.eval(feed_dict={X : d[2], y : d[3]}))\n",
    "        list_of_hits_test_mpl.append(hits_10.eval(feed_dict={X : d[2], y : d[3][None]}))\n",
    "        list_of_auc_test_mpl.append(auc.eval(feed_dict={X : d[2], y : d[3]})) \n",
    "        list_of_accuracy_test_mpl.append(accuracy.eval(feed_dict={X : d[2], y : d[3]}))"
   ]
  },
  {
   "cell_type": "markdown",
   "metadata": {},
   "source": [
    "### RESULT COMPARISON"
   ]
  },
  {
   "cell_type": "markdown",
   "metadata": {},
   "source": [
    "### Random Forest Test Result"
   ]
  },
  {
   "cell_type": "code",
   "execution_count": 118,
   "metadata": {},
   "outputs": [
    {
     "data": {
      "text/html": [
       "<div>\n",
       "<style scoped>\n",
       "    .dataframe tbody tr th:only-of-type {\n",
       "        vertical-align: middle;\n",
       "    }\n",
       "\n",
       "    .dataframe tbody tr th {\n",
       "        vertical-align: top;\n",
       "    }\n",
       "\n",
       "    .dataframe thead th {\n",
       "        text-align: right;\n",
       "    }\n",
       "</style>\n",
       "<table border=\"1\" class=\"dataframe\">\n",
       "  <thead>\n",
       "    <tr style=\"text-align: right;\">\n",
       "      <th></th>\n",
       "      <th>Test Case 1</th>\n",
       "      <th>Test Case 2</th>\n",
       "      <th>Test Case 3</th>\n",
       "      <th>Test Case 4</th>\n",
       "      <th>Test Case 5</th>\n",
       "    </tr>\n",
       "  </thead>\n",
       "  <tbody>\n",
       "    <tr>\n",
       "      <th>True Hits</th>\n",
       "      <td>3.000000</td>\n",
       "      <td>2.000000</td>\n",
       "      <td>2.000000</td>\n",
       "      <td>4.000000</td>\n",
       "      <td>3.000000</td>\n",
       "    </tr>\n",
       "    <tr>\n",
       "      <th>AUC</th>\n",
       "      <td>0.816667</td>\n",
       "      <td>0.711111</td>\n",
       "      <td>0.611111</td>\n",
       "      <td>0.666667</td>\n",
       "      <td>0.550000</td>\n",
       "    </tr>\n",
       "    <tr>\n",
       "      <th>MAE</th>\n",
       "      <td>32.278557</td>\n",
       "      <td>25.135286</td>\n",
       "      <td>16.630174</td>\n",
       "      <td>36.515024</td>\n",
       "      <td>24.028726</td>\n",
       "    </tr>\n",
       "    <tr>\n",
       "      <th>Time</th>\n",
       "      <td>0.003800</td>\n",
       "      <td>0.004000</td>\n",
       "      <td>0.004400</td>\n",
       "      <td>0.004100</td>\n",
       "      <td>0.002600</td>\n",
       "    </tr>\n",
       "  </tbody>\n",
       "</table>\n",
       "</div>"
      ],
      "text/plain": [
       "           Test Case 1  Test Case 2  Test Case 3  Test Case 4  Test Case 5\n",
       "True Hits     3.000000     2.000000     2.000000     4.000000     3.000000\n",
       "AUC           0.816667     0.711111     0.611111     0.666667     0.550000\n",
       "MAE          32.278557    25.135286    16.630174    36.515024    24.028726\n",
       "Time          0.003800     0.004000     0.004400     0.004100     0.002600"
      ]
     },
     "execution_count": 118,
     "metadata": {},
     "output_type": "execute_result"
    }
   ],
   "source": [
    "create_result_rf(list_of_hits_test_rf, list_of_auc_test_rf, list_of_mae_test_rf, list_of_eval_time_test_rf, True)"
   ]
  },
  {
   "cell_type": "markdown",
   "metadata": {},
   "source": [
    "### Deep Neural Networks Test Result"
   ]
  },
  {
   "cell_type": "code",
   "execution_count": 119,
   "metadata": {},
   "outputs": [
    {
     "data": {
      "text/html": [
       "<div>\n",
       "<style scoped>\n",
       "    .dataframe tbody tr th:only-of-type {\n",
       "        vertical-align: middle;\n",
       "    }\n",
       "\n",
       "    .dataframe tbody tr th {\n",
       "        vertical-align: top;\n",
       "    }\n",
       "\n",
       "    .dataframe thead th {\n",
       "        text-align: right;\n",
       "    }\n",
       "</style>\n",
       "<table border=\"1\" class=\"dataframe\">\n",
       "  <thead>\n",
       "    <tr style=\"text-align: right;\">\n",
       "      <th></th>\n",
       "      <th>Test Case 1</th>\n",
       "      <th>Test Case 2</th>\n",
       "      <th>Test Case 3</th>\n",
       "      <th>Test Case 4</th>\n",
       "      <th>Test Case 5</th>\n",
       "    </tr>\n",
       "  </thead>\n",
       "  <tbody>\n",
       "    <tr>\n",
       "      <th>True Hits</th>\n",
       "      <td>7.000000</td>\n",
       "      <td>6.000000</td>\n",
       "      <td>5.000000</td>\n",
       "      <td>5.000000</td>\n",
       "      <td>6.000000</td>\n",
       "    </tr>\n",
       "    <tr>\n",
       "      <th>AUC</th>\n",
       "      <td>0.833333</td>\n",
       "      <td>0.777778</td>\n",
       "      <td>0.722222</td>\n",
       "      <td>0.722222</td>\n",
       "      <td>0.777778</td>\n",
       "    </tr>\n",
       "    <tr>\n",
       "      <th>MAE</th>\n",
       "      <td>24.003374</td>\n",
       "      <td>17.698275</td>\n",
       "      <td>18.343298</td>\n",
       "      <td>29.808174</td>\n",
       "      <td>19.680195</td>\n",
       "    </tr>\n",
       "    <tr>\n",
       "      <th>Accuracy</th>\n",
       "      <td>0.940000</td>\n",
       "      <td>0.920000</td>\n",
       "      <td>0.900000</td>\n",
       "      <td>0.900000</td>\n",
       "      <td>0.920000</td>\n",
       "    </tr>\n",
       "    <tr>\n",
       "      <th>Time</th>\n",
       "      <td>40.968200</td>\n",
       "      <td>87.865700</td>\n",
       "      <td>113.638000</td>\n",
       "      <td>155.294600</td>\n",
       "      <td>197.488300</td>\n",
       "    </tr>\n",
       "  </tbody>\n",
       "</table>\n",
       "</div>"
      ],
      "text/plain": [
       "           Test Case 1  Test Case 2  Test Case 3  Test Case 4  Test Case 5\n",
       "True Hits     7.000000     6.000000     5.000000     5.000000     6.000000\n",
       "AUC           0.833333     0.777778     0.722222     0.722222     0.777778\n",
       "MAE          24.003374    17.698275    18.343298    29.808174    19.680195\n",
       "Accuracy      0.940000     0.920000     0.900000     0.900000     0.920000\n",
       "Time         40.968200    87.865700   113.638000   155.294600   197.488300"
      ]
     },
     "execution_count": 119,
     "metadata": {},
     "output_type": "execute_result"
    }
   ],
   "source": [
    "create_result_mls(list_of_hits_test_mpl, list_of_auc_test_mpl, list_of_mae_test_mpl, list_of_accuracy_test_mpl, list_of_eval_time_test_mpl, True)"
   ]
  },
  {
   "cell_type": "markdown",
   "metadata": {},
   "source": [
    "### Random Forest Result Plots"
   ]
  },
  {
   "cell_type": "code",
   "execution_count": 138,
   "metadata": {},
   "outputs": [
    {
     "data": {
      "image/png": "[encoded data removed]",
      "text/plain": [
       "<Figure size 1800x360 with 4 Axes>"
      ]
     },
     "metadata": {},
     "output_type": "display_data"
    }
   ],
   "source": [
    "# Random forest result charts for test sets\n",
    "plot_random_forest()"
   ]
  },
  {
   "cell_type": "markdown",
   "metadata": {},
   "source": [
    "### Deep Neural Networks Result Plots"
   ]
  },
  {
   "cell_type": "code",
   "execution_count": 136,
   "metadata": {},
   "outputs": [
    {
     "data": {
      "image/png": "[encoded data removed]",
      "text/plain": [
       "<Figure size 1800x360 with 4 Axes>"
      ]
     },
     "metadata": {},
     "output_type": "display_data"
    }
   ],
   "source": [
    "# Plots for Neural Networks\n",
    "plot_dnn_result()"
   ]
  },
  {
   "cell_type": "markdown",
   "metadata": {},
   "source": [
    "### SUMMARY"
   ]
  },
  {
   "cell_type": "markdown",
   "metadata": {},
   "source": [
    "- Based on the Number of Hits, Nueral Networks performs better than Random Forest.\n",
    "  <pre>\n",
    "      - Random Forest   = [3, 2, 2, 4, 3]\n",
    "      - Neural Networks = [7, 6, 5, 5, 6]\n",
    "  </pre>\n",
    "  \n",
    "- The Area under the curve is better for the Neural Network for all 5 Models.\n",
    "  <pre>\n",
    "      - Random Forest    = [0.82, 0.71, 0.61, 0.68, 0.55]\n",
    "      - Neural Networks  = [0.83, 0.78, 0.72, 0.72, 0.78]\n",
    "  </pre>\n",
    "    \n",
    "- The Mean Absolute Error is better for the Neural Networks as well.\n",
    "  <pre>\n",
    "      - Random Forest    = [32.29, 25.14, 16.63, 36.52, 24.03]\n",
    "      - Neural Networks  = [24.00, 17.70, 18.34, 29.81, 19.68]\n",
    "  </pre>\n",
    "  \n",
    "- With the Number of Input and Hidden Layers, Processing Time increases for Neural Networks, when compared to Random Forest \n",
    "   <pre>\n",
    "      - Random Forest    = [0.003, 0.004, 0.004, 0.004, 0.002]\n",
    "      - Neural Networks  = [40.97, 87.87, 113.64, 155.29, 197.49]\n",
    "  </pre>\n"
   ]
  },
  {
   "cell_type": "markdown",
   "metadata": {},
   "source": [
    "### CONCLUSION"
   ]
  },
  {
   "cell_type": "markdown",
   "metadata": {},
   "source": [
    "Based on the results above, Nueral Networks is a better model than Random Forest. Thus my findings doesn't supports the conclusions of the research paper."
   ]
  }
 ],
 "metadata": {
  "kernelspec": {
   "display_name": "Python 3",
   "language": "python",
   "name": "python3"
  },
  "language_info": {
   "codemirror_mode": {
    "name": "ipython",
    "version": 3
   },
   "file_extension": ".py",
   "mimetype": "text/x-python",
   "name": "python",
   "nbconvert_exporter": "python",
   "pygments_lexer": "ipython3",
   "version": "3.6.6"
  }
 },
 "nbformat": 4,
 "nbformat_minor": 2
}
